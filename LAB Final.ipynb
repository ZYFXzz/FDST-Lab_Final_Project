{
 "cells": [
  {
   "cell_type": "code",
   "execution_count": null,
   "id": "64fb2383-0c49-4151-83ff-0fba0c0711cb",
   "metadata": {},
   "outputs": [],
   "source": [
    "import numpy as np\n",
    "import matplotlib.pyplot as plt\n",
    "import soundfile as sf\n",
    "from IPython.display import Audio # We only need the Audio 'Class' from this package\n",
    "#standard library"
   ]
  },
  {
   "cell_type": "markdown",
   "id": "1708c01e-72ff-4b7c-9148-21aac2cd5378",
   "metadata": {},
   "source": [
    "# Part 1"
   ]
  },
  {
   "cell_type": "code",
   "execution_count": null,
   "id": "e43222cf-e6ea-4f5f-ac28-cce1c5ef0bd2",
   "metadata": {},
   "outputs": [],
   "source": [
    "#a noise with some decay\n",
    "sr = 44100;\n",
    "period_length = 80\n",
    "period = np.random.uniform(-0.5,0.5, period_length)\n",
    "display(Audio(period, rate = 44100))\n",
    "plt.plot(period)"
   ]
  },
  {
   "cell_type": "code",
   "execution_count": null,
   "id": "a66de636-092b-4be4-9637-52fefe49d047",
   "metadata": {},
   "outputs": [],
   "source": [
    "#repeat it, with a decay factor of 0.99 per period\n",
    "num_periods = 500\n",
    "y = np.zeros(num_periods * period_length)\n",
    "\n",
    "for i in range(num_periods):\n",
    "    period = period * 0.99\n",
    "    for j in range(period_length):\n",
    "        y[i*period_length + j ]= period[j]\n",
    "    \n",
    "display(Audio(y, rate = 44100))\n",
    "plt.plot(y)\n"
   ]
  },
  {
   "cell_type": "markdown",
   "id": "295cf137-5ffc-4321-961b-732a8783adf2",
   "metadata": {},
   "source": [
    "# Part 2"
   ]
  },
  {
   "cell_type": "code",
   "execution_count": null,
   "id": "9d611459-4a54-467e-91c5-1ec1bd724db2",
   "metadata": {},
   "outputs": [],
   "source": [
    "from IPython.display import Image\n",
    "Image(filename = 'ks.png')"
   ]
  },
  {
   "cell_type": "code",
   "execution_count": null,
   "id": "1d7dbc39-bff6-43dd-9b2c-32687f06331d",
   "metadata": {},
   "outputs": [],
   "source": [
    "def ks_basic(fs, dur, sr):\n",
    "\n",
    "# to generate a sound at certain frequency, we will then need to determine how many periods we need, which is the frequency\n",
    "\n",
    "    period_length = int(sr//fs) # not exactly, the frequency we want, because we are round this result\n",
    "\n",
    "    # then we need to determine the length of y\n",
    "    N = int(dur * sr)\n",
    "\n",
    "    # next, we need to know for N samples, we want to loop our period for how many times\n",
    "    num_periods = N//period_length - 1 # -1 for preventing out of bound of y\n",
    "    y = np.zeros(N)\n",
    "    \n",
    "\n",
    "    y = np.random.uniform(-1, 1, N) # we can generate a random noise,and the samples after the initial period will be recalculated\n",
    "    # Apply the Karplus-Strong algorithm\n",
    "    for i in range(period_length, N):\n",
    "        y[i] = 0.5 * (y[i - period_length] + y[i - period_length - 1])\n",
    "          \n",
    "            \n",
    "    y_max = np.max(np.abs(y))\n",
    "\n",
    "    for i in range(0,len(y)):    \n",
    "        y[i] = y[i]/y_max\n",
    "        \n",
    "    return y"
   ]
  },
  {
   "cell_type": "code",
   "execution_count": null,
   "id": "fb775437-3e21-42c9-9fdf-9788c0008ede",
   "metadata": {},
   "outputs": [],
   "source": [
    "test = ks_basic(440,2,44100)\n",
    "plt.plot(test)\n",
    "display(Audio(test,rate = 44100))\n"
   ]
  },
  {
   "cell_type": "markdown",
   "id": "e5c083ef-d3c6-4ff7-a254-28a92a947493",
   "metadata": {},
   "source": [
    "# Part 3"
   ]
  },
  {
   "cell_type": "code",
   "execution_count": null,
   "id": "6e636d08-00f9-4ac6-895a-e5630d7d7a3a",
   "metadata": {},
   "outputs": [],
   "source": [
    "# then we introduce one of the extension parameter, decay factor, to control the length, \n",
    "# 0 < decay_factor < 1, as it decrease, the signal's amplitude will decrease \n",
    "\n",
    "def ks_basic_guitar(fs, dur, sr, decay_factor):\n",
    "\n",
    "# to generate a sound at certain frequency, we will then need to determine how many periods we need, which is the frequency\n",
    "\n",
    "    period_length = int(sr//fs) # note exactly, the frequency we want, because we are round this result\n",
    "\n",
    "    # then we need to determine the length of y\n",
    "    N = int(dur * sr)\n",
    "\n",
    "    # next, we need to know for N samples, we want to loop our period for how many times\n",
    "    num_periods = N//period_length -1 # -1 for preventing out of bound of y    \n",
    "\n",
    "    y = np.random.uniform(-1, 1, N) # we can generate a random noise,and the samples after the initial period will be recalculated\n",
    "    # Apply the Karplus-Strong algorithm\n",
    "    for i in range(period_length, N):\n",
    "        y[i] = decay_factor * 0.5 * (y[i - period_length] + y[i - period_length - 1])\n",
    "          \n",
    "            \n",
    "    y_max = np.max(np.abs(y))\n",
    "\n",
    "    for i in range(0,len(y)):    \n",
    "        y[i] = y[i]/y_max\n",
    "        \n",
    "    return y"
   ]
  },
  {
   "cell_type": "code",
   "execution_count": null,
   "id": "61b42d43-67eb-4c9d-af2f-da48944ad719",
   "metadata": {},
   "outputs": [],
   "source": [
    "test = ks_basic_guitar(440,2,44100,0.99)\n",
    "plt.plot(test)\n",
    "display(Audio(test,rate = 44100))\n"
   ]
  },
  {
   "cell_type": "code",
   "execution_count": null,
   "id": "c86faf30-a65d-447e-95e1-1c8dc594d736",
   "metadata": {},
   "outputs": [],
   "source": [
    "example_0 = ks_basic_guitar(440,6,44100,1)\n",
    "example_1 = ks_basic_guitar(440,6,44100,0.9999)\n",
    "example_2 = ks_basic_guitar(440,6,44100,0.995)\n",
    "example_3 = ks_basic_guitar(440,6,44100,0.99)\n",
    "example_4 = ks_basic_guitar(440,6,44100,0.6)\n",
    "plt.plot(example_0)\n",
    "plt.plot(example_1)\n",
    "plt.plot(example_2)\n",
    "plt.plot(example_3)\n",
    "plt.plot(example_4)\n",
    "print(\"example_0, decay_factor: 1\")\n",
    "display(Audio(example_0, rate = 44100))\n",
    "print(\"example_1, decay_factor: 0.9999\")\n",
    "display(Audio(example_1, rate = 44100))\n",
    "print(\"example_2, decay_factor: 0.995\")\n",
    "display(Audio(example_2, rate = 44100))\n",
    "print(\"example_3, decay_factor: 0.99\")\n",
    "display(Audio(example_3, rate = 44100))\n",
    "print(\"example_4, decay_factor: 0.2\")\n",
    "display(Audio(example_4, rate = 44100))"
   ]
  },
  {
   "cell_type": "markdown",
   "id": "d13701c1-f504-4b45-837f-f770574fce34",
   "metadata": {},
   "source": [
    "# Part 4"
   ]
  },
  {
   "cell_type": "code",
   "execution_count": null,
   "id": "f76446dd-85ab-4375-aafb-dec312a7221f",
   "metadata": {},
   "outputs": [],
   "source": [
    "note_length = 0.5\n",
    "sr = 44100\n",
    "note_sample_size = int(note_length * sr) \n",
    "\n",
    "C4 = ks_basic_guitar(261.63,note_length,sr,0.99)\n",
    "D4 = ks_basic_guitar(293.66,note_length,sr,0.99)\n",
    "E4 = ks_basic_guitar(329.63,note_length,sr,0.99)\n",
    "F4 = ks_basic_guitar(349.23,note_length,sr,0.99)\n",
    "G4 = ks_basic_guitar(392.00,note_length,sr,0.99)\n",
    "A4 = ks_basic_guitar(440.00,note_length,sr,0.99)\n",
    "B4 = ks_basic_guitar(493.88,note_length,sr,0.99)\n",
    "C5 = ks_basic_guitar(523.25,note_length,sr,0.99)\n",
    "D5 = ks_basic_guitar(587.33,note_length,sr,0.99)\n",
    "E5 = ks_basic_guitar(659.26,note_length,sr,0.99)\n",
    "\n",
    "notes = [C4,D4,E4,F4,G4,A4,B4,C5,D5,E5] #putting notes in a large array, to be accessed later"
   ]
  },
  {
   "cell_type": "markdown",
   "id": "5e9cc342-98c2-4022-a1b2-cf6f37075b54",
   "metadata": {},
   "source": [
    "# Part 5"
   ]
  },
  {
   "cell_type": "code",
   "execution_count": null,
   "id": "09069882-9e48-415c-9daf-f8aeed5c7025",
   "metadata": {},
   "outputs": [],
   "source": [
    "note_number = 8\n",
    "out = np.zeros(note_number*44100)\n",
    "\n",
    "for i in range(0,note_number):\n",
    "    note_start = i * note_sample_size  \n",
    "    note_end = (i + 1) * note_sample_size\n",
    "    out[note_start:note_end] = notes[i]\n",
    "    \n",
    "sf.write('scale.wav',out,44100)\n",
    "display(Audio('scale.wav'))"
   ]
  },
  {
   "cell_type": "code",
   "execution_count": null,
   "id": "b1cc9b02-b861-4aa3-902a-68f959f6d82d",
   "metadata": {},
   "outputs": [],
   "source": [
    "# twinkle twinkle little star\n",
    "#melody = [1,1,5,5,6,6,5,0,4,4,3,3,2,2,1] #short version\n",
    "#melody = [1,1,5,5,6,6,5,0,4,4,3,3,2,2,1,0,5,5,4,4,3,3,2,0,5,5,4,4,3,3,2,0,1,1,5,5,6,6,5,0,4,4,3,3,2,2,1,0] \n",
    "\n",
    "#song:bad apple\n",
    "melody = [5,6,8,9,6,5,6,0,5,6,8,9,6,5,6,0,5,6,5,4,3,1,2,0,1,2,3,4,5,6,2] #0 standard for empty space between the phrases\n",
    "\n",
    "\n",
    "note_number = len(melody) # how many notes in the melody\n",
    "out = np.zeros(note_number*note_sample_size) # empty place holder for the final output\n",
    "\n",
    "#iteration of melody from start to end\n",
    "for i in range(0,note_number):\n",
    "    note_start = i * note_sample_size\n",
    "    note_end = (i + 1) * note_sample_size\n",
    "    k= melody[i]-1\n",
    "    if (k==-1):\n",
    "        continue  ## jump to next iteration, the current space for this note area will have values of 0 \n",
    "    out[note_start:note_end] = notes[k]\n",
    "    \n",
    "#normalize    \n",
    "out_max = np.max(np.abs(out))\n",
    "for i in range(0,len(out)):    \n",
    "    out[i] = out[i]/out_max\n",
    "    \n",
    "    \n",
    "#out\n",
    "sf.write('out.wav',out,44100)\n",
    "display(Audio('out.wav'))\n",
    "plt.plot(out)"
   ]
  },
  {
   "cell_type": "markdown",
   "id": "0035f618-e3ca-47ba-b6db-f54b33888a32",
   "metadata": {},
   "source": [
    "# Part 6"
   ]
  },
  {
   "cell_type": "code",
   "execution_count": null,
   "id": "30978909-aa3a-4f0b-bebc-98b0b3debb3a",
   "metadata": {},
   "outputs": [],
   "source": [
    "# import conv function from previous lab\n",
    "\n",
    "def fast_conv(x,h):\n",
    "    \n",
    "    #generating zeros for x\n",
    "    zeros_x = np.zeros(len(h)-1)\n",
    "    #generating zeros for h\n",
    "    zeros_h = np.zeros(len(x)-1)\n",
    "    \n",
    "    #adding zeros\n",
    "    x_z = np.hstack([x,zeros_x])  # hstack(a[],b[]) will put a and b into one array\n",
    "    h_z = np.hstack([h,zeros_h])\n",
    "    \n",
    "   \n",
    "    X = np.fft.fft(x_z)# m = x + len(N) -1\n",
    "    H = np.fft.fft(h_z)# n = h + len(m) -1 \n",
    "    \n",
    "    OUT = X*H\n",
    "    \n",
    "    out = np.real(np.fft.ifft(OUT))  #real will keep the +/- sign, while abs will take the sign away\n",
    "    \n",
    "    return out"
   ]
  },
  {
   "cell_type": "code",
   "execution_count": null,
   "id": "61e82174-10e4-4773-b365-97d34018421a",
   "metadata": {},
   "outputs": [],
   "source": [
    "ir_2 = sf.read('IR2.wav')\n",
    "ir_2 = ir_2[0]\n",
    "ir_hall = sf.read('hall_ir.wav')\n",
    "ir_hall = ir_hall[0]\n",
    "#ir is a 2 dimensional array, ir[0] is the IR, ir[1] is sample rate of this IR"
   ]
  },
  {
   "cell_type": "code",
   "execution_count": null,
   "id": "e13184e1-d7f1-4920-b85a-470140f554db",
   "metadata": {},
   "outputs": [],
   "source": [
    "conv_2 = fast_conv(out,ir_2)\n",
    "conv_hall = fast_conv(out,ir_hall)\n",
    "conv_2_hall = fast_conv(conv_2,ir_hall)\n",
    "#conv_1 is not good, so I simply deleted it"
   ]
  },
  {
   "cell_type": "code",
   "execution_count": null,
   "id": "422432cb-37c7-4019-bae4-5bdebc1efed3",
   "metadata": {},
   "outputs": [],
   "source": [
    "print('fender twin IR')\n",
    "display(Audio(conv_2,rate = 44100))\n",
    "print('put in hall')\n",
    "display(Audio(conv_hall,rate = 44100))\n",
    "print('fender twin IR in hall')\n",
    "display(Audio(conv_2_hall,rate = 44100))"
   ]
  },
  {
   "cell_type": "markdown",
   "id": "59513f5c-f982-486e-ad98-d77d1acc705a",
   "metadata": {},
   "source": [
    "Thank you!"
   ]
  }
 ],
 "metadata": {
  "kernelspec": {
   "display_name": "Python 3 (ipykernel)",
   "language": "python",
   "name": "python3"
  },
  "language_info": {
   "codemirror_mode": {
    "name": "ipython",
    "version": 3
   },
   "file_extension": ".py",
   "mimetype": "text/x-python",
   "name": "python",
   "nbconvert_exporter": "python",
   "pygments_lexer": "ipython3",
   "version": "3.10.9"
  }
 },
 "nbformat": 4,
 "nbformat_minor": 5
}
